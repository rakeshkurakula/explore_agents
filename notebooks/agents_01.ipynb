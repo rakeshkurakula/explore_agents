{
 "cells": [
  {
   "cell_type": "code",
   "execution_count": 2,
   "metadata": {},
   "outputs": [],
   "source": [
    "# ! pip install crewai\n",
    "# ! pip install crewai-tools\n"
   ]
  },
  {
   "cell_type": "markdown",
   "metadata": {},
   "source": [
    "### Defining LLM"
   ]
  },
  {
   "cell_type": "code",
   "execution_count": null,
   "metadata": {},
   "outputs": [],
   "source": [
    "# Import the LLM class from crewai library\n",
    "from crewai import LLM\n",
    "\n",
    "# Initialize LLM with Ollama's Llama2 model\n",
    "# Using local Ollama server running on port 11434\n",
    "llm = LLM(\n",
    "    model=\"ollama/llama3.2:1b\",\n",
    "    base_url=\"http://localhost:11434\",\n",
    ")"
   ]
  },
  {
   "cell_type": "markdown",
   "metadata": {},
   "source": [
    "## Defining base Agent"
   ]
  },
  {
   "cell_type": "code",
   "execution_count": 7,
   "metadata": {},
   "outputs": [],
   "source": [
    "from crewai import Agent\n",
    "\n",
    "senior_technical_writer = Agent(\n",
    "    role = \"Senior Technical Writer\",\n",
    "    goal = \"\"\"Craft clear, engaging, and well-structured\n",
    "            technical content based on research findings\"\"\",\n",
    "    backstory=\"\"\"You are an experienced technical writer\n",
    "                with expertise in simplifying complex concepts,\n",
    "                structuring content for readability, \n",
    "                and ensuring accuracy in documentation.\n",
    "                \"\"\",\n",
    "    llm = llm,\n",
    "    verbose = True,\n",
    ")\n",
    "\n"
   ]
  },
  {
   "cell_type": "code",
   "execution_count": 8,
   "metadata": {},
   "outputs": [],
   "source": [
    "from crewai import Agent\n",
    "\n",
    "research_analyst = Agent(\n",
    "    role=\"Senior Research Analyst\",\n",
    "    goal=\"\"\"Find, analyze, and summarize information \n",
    "            from various sources to support technical \n",
    "            and business-related inquiries.\"\"\",\n",
    "    backstory=\"\"\"You are a skilled research analyst with expertise \n",
    "                 in gathering accurate data, identifying key trends, \n",
    "                 and presenting insights in a structured manner.\"\"\",\n",
    "    llm=llm,\n",
    "    verbose=True\n",
    ")\n"
   ]
  },
  {
   "cell_type": "code",
   "execution_count": 9,
   "metadata": {},
   "outputs": [],
   "source": [
    "from crewai import Agent\n",
    "\n",
    "code_reviewer = Agent(\n",
    "    role=\"Senior Code Reviewer\",\n",
    "    goal=\"\"\"Review code for bugs, inefficiencies, and \n",
    "            security vulnerabilities while ensuring adherence \n",
    "            to best coding practices.\"\"\",\n",
    "    backstory=\"\"\"You are a seasoned software engineer with years of \n",
    "                 experience in writing, reviewing, and optimizing \n",
    "                 production-level code in multiple programming languages.\"\"\",\n",
    "    llm=llm,\n",
    "    verbose=True\n",
    ")"
   ]
  },
  {
   "cell_type": "code",
   "execution_count": 10,
   "metadata": {},
   "outputs": [],
   "source": [
    "from crewai import Agent\n",
    "\n",
    "legal_reviewer = Agent(\n",
    "    role=\"Legal Document Expert Reviewer\",\n",
    "    goal=\"\"\"Review contracts and legal documents to \n",
    "            ensure compliance with applicable laws and \n",
    "            highlight potential risks.\"\"\",\n",
    "    backstory=\"\"\"You are a legal expert with deep knowledge \n",
    "                 of contract law, regulatory frameworks, \n",
    "                 and risk mitigation strategies.\"\"\",\n",
    "    llm=llm,\n",
    "    verbose=True\n",
    ")\n"
   ]
  },
  {
   "cell_type": "code",
   "execution_count": 11,
   "metadata": {},
   "outputs": [],
   "source": [
    "from crewai import Task\n",
    "\n",
    "writing_task = Task(\n",
    "    description=\"\"\"Write a well-structured, engaging,\n",
    "                   and technically accurate article\n",
    "                   on {topic}.\"\"\",\n",
    "    \n",
    "    agent=senior_technical_writer, \n",
    "    \n",
    "    \n",
    "    expected_output=\"\"\"A polished, detailed, and easy-to-read\n",
    "                       article on the given topic.\"\"\",\n",
    ")"
   ]
  },
  {
   "cell_type": "code",
   "execution_count": 12,
   "metadata": {},
   "outputs": [
    {
     "name": "stdout",
     "output_type": "stream",
     "text": [
      "\u001b[1m\u001b[95m# Agent:\u001b[00m \u001b[1m\u001b[92mSenior Technical Writer\u001b[00m\n",
      "\u001b[95m## Task:\u001b[00m \u001b[92mWrite a well-structured, engaging,\n",
      "                   and technically accurate article\n",
      "                   on AI Agents.\u001b[00m\n",
      "\n",
      "\n",
      "\u001b[1m\u001b[95m# Agent:\u001b[00m \u001b[1m\u001b[92mSenior Technical Writer\u001b[00m\n",
      "\u001b[95m## Final Answer:\u001b[00m \u001b[92m\n",
      "I now can give a great answer\n",
      "To create an informative and engaging article on AI Agents, I will focus on the key aspects of artificial intelligence agents, including their types, training methods, and applications in various fields. Artificial intelligence (AI) agents are software programs that enable machines to make decisions and act independently, often using complex algorithms and data.\n",
      "\n",
      "One type of AI agent is a reinforcement learning agent, which learns from its environment through trial and error by receiving rewards or penalties for its actions. Another type is a policy gradient method, which adjusts the parameters of an action selection policy to maximize a given objective function. These agents can be trained using various machine learning algorithms, such as Q-learning or deep Q-networks (DQN), to learn optimal policies.\n",
      "\n",
      "Training AI agents involves providing them with a vast amount of data through human-annotated datasets, which are used to update the agent's model and improve its performance over time. This process is called data augmentation, where new data is generated by manipulating existing data or simulating different scenarios.\n",
      "\n",
      "AI agents have numerous applications across various fields, including robotics, finance, healthcare, and transportation. For example, autonomous vehicles use AI agents to navigate complex routes, while chatbots utilize natural language processing (NLP) and machine learning algorithms to provide customer support.\n",
      "\n",
      "In addition, AI agents can be used for tasks such as content recommendation, image classification, and speech recognition. These applications are becoming increasingly important in our daily lives, enabling us to interact with machines more effectively and make better decisions.\n",
      "\n",
      "To achieve the goal of creating a well-structured, engaging, and technically accurate article on AI Agents, I will use clear and concise language, avoiding technical jargon whenever possible. The article will be divided into four sections: Introduction, Types of AI Agents, Training Methods for AI Agents, and Applications of AI Agents. Each section will include examples, definitions, and relevant data to support the content.\n",
      "\n",
      "Throughout the article, I will provide detailed explanations of complex concepts, such as reinforcement learning and policy gradient methods, using analogies and metaphors to help readers understand these ideas better. Additionally, I will include real-world examples and case studies to illustrate the practical applications of AI Agents in various industries.\n",
      "\n",
      "By focusing on the key aspects of artificial intelligence agents, including their types, training methods, and applications, this article aims to provide a comprehensive understanding of AI Agents for readers who are new to the field or looking to learn more about its potential uses.\u001b[00m\n",
      "\n",
      "\n"
     ]
    }
   ],
   "source": [
    "from crewai import Crew\n",
    "\n",
    "crew = Crew(\n",
    "    agents = [senior_technical_writer],\n",
    "    tasks=[writing_task],\n",
    "    verbose=True,\n",
    ")\n",
    "response = crew.kickoff(inputs = {\"topic\": \"AI Agents\"})"
   ]
  },
  {
   "cell_type": "code",
   "execution_count": null,
   "metadata": {},
   "outputs": [],
   "source": []
  }
 ],
 "metadata": {
  "kernelspec": {
   "display_name": "agents",
   "language": "python",
   "name": "agents"
  },
  "language_info": {
   "codemirror_mode": {
    "name": "ipython",
    "version": 3
   },
   "file_extension": ".py",
   "mimetype": "text/x-python",
   "name": "python",
   "nbconvert_exporter": "python",
   "pygments_lexer": "ipython3",
   "version": "3.12.9"
  }
 },
 "nbformat": 4,
 "nbformat_minor": 2
}
